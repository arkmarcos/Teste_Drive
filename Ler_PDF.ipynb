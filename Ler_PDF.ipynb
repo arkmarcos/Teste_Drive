{
  "nbformat": 4,
  "nbformat_minor": 0,
  "metadata": {
    "colab": {
      "provenance": [],
      "authorship_tag": "ABX9TyOHaOTCnPUMIQUsigqXOPqV",
      "include_colab_link": true
    },
    "kernelspec": {
      "name": "python3",
      "display_name": "Python 3"
    },
    "language_info": {
      "name": "python"
    }
  },
  "cells": [
    {
      "cell_type": "markdown",
      "metadata": {
        "id": "view-in-github",
        "colab_type": "text"
      },
      "source": [
        "<a href=\"https://colab.research.google.com/github/arkmarcos/Teste_Drive/blob/main/Ler_PDF.ipynb\" target=\"_parent\"><img src=\"https://colab.research.google.com/assets/colab-badge.svg\" alt=\"Open In Colab\"/></a>"
      ]
    },
    {
      "cell_type": "code",
      "execution_count": 1,
      "metadata": {
        "colab": {
          "base_uri": "https://localhost:8080/"
        },
        "collapsed": true,
        "id": "zJluceN3ugI5",
        "outputId": "d6c134df-da24-48ad-83fd-3a5c9986d9f1"
      },
      "outputs": [
        {
          "output_type": "stream",
          "name": "stdout",
          "text": [
            "Collecting pypdf2\n",
            "  Downloading pypdf2-3.0.1-py3-none-any.whl (232 kB)\n",
            "\u001b[2K     \u001b[90m━━━━━━━━━━━━━━━━━━━━━━━━━━━━━━━━━━━━━━━━\u001b[0m \u001b[32m232.6/232.6 kB\u001b[0m \u001b[31m2.3 MB/s\u001b[0m eta \u001b[36m0:00:00\u001b[0m\n",
            "\u001b[?25hCollecting pytesseract\n",
            "  Downloading pytesseract-0.3.10-py3-none-any.whl (14 kB)\n",
            "Requirement already satisfied: Pillow in /usr/local/lib/python3.10/dist-packages (9.4.0)\n",
            "Collecting pdf2image\n",
            "  Downloading pdf2image-1.17.0-py3-none-any.whl (11 kB)\n",
            "Requirement already satisfied: packaging>=21.3 in /usr/local/lib/python3.10/dist-packages (from pytesseract) (24.0)\n",
            "Installing collected packages: pytesseract, pypdf2, pdf2image\n",
            "Successfully installed pdf2image-1.17.0 pypdf2-3.0.1 pytesseract-0.3.10\n",
            "Reading package lists... Done\n",
            "Building dependency tree... Done\n",
            "Reading state information... Done\n",
            "The following additional packages will be installed:\n",
            "  tesseract-ocr-eng tesseract-ocr-osd\n",
            "The following NEW packages will be installed:\n",
            "  poppler-utils tesseract-ocr tesseract-ocr-eng tesseract-ocr-osd\n",
            "0 upgraded, 4 newly installed, 0 to remove and 45 not upgraded.\n",
            "Need to get 5,003 kB of archives.\n",
            "After this operation, 16.3 MB of additional disk space will be used.\n",
            "Get:1 http://archive.ubuntu.com/ubuntu jammy-updates/main amd64 poppler-utils amd64 22.02.0-2ubuntu0.4 [186 kB]\n",
            "Get:2 http://archive.ubuntu.com/ubuntu jammy/universe amd64 tesseract-ocr-eng all 1:4.00~git30-7274cfa-1.1 [1,591 kB]\n",
            "Get:3 http://archive.ubuntu.com/ubuntu jammy/universe amd64 tesseract-ocr-osd all 1:4.00~git30-7274cfa-1.1 [2,990 kB]\n",
            "Get:4 http://archive.ubuntu.com/ubuntu jammy/universe amd64 tesseract-ocr amd64 4.1.1-2.1build1 [236 kB]\n",
            "Fetched 5,003 kB in 1s (4,938 kB/s)\n",
            "Selecting previously unselected package poppler-utils.\n",
            "(Reading database ... 121918 files and directories currently installed.)\n",
            "Preparing to unpack .../poppler-utils_22.02.0-2ubuntu0.4_amd64.deb ...\n",
            "Unpacking poppler-utils (22.02.0-2ubuntu0.4) ...\n",
            "Selecting previously unselected package tesseract-ocr-eng.\n",
            "Preparing to unpack .../tesseract-ocr-eng_1%3a4.00~git30-7274cfa-1.1_all.deb ...\n",
            "Unpacking tesseract-ocr-eng (1:4.00~git30-7274cfa-1.1) ...\n",
            "Selecting previously unselected package tesseract-ocr-osd.\n",
            "Preparing to unpack .../tesseract-ocr-osd_1%3a4.00~git30-7274cfa-1.1_all.deb ...\n",
            "Unpacking tesseract-ocr-osd (1:4.00~git30-7274cfa-1.1) ...\n",
            "Selecting previously unselected package tesseract-ocr.\n",
            "Preparing to unpack .../tesseract-ocr_4.1.1-2.1build1_amd64.deb ...\n",
            "Unpacking tesseract-ocr (4.1.1-2.1build1) ...\n",
            "Setting up tesseract-ocr-eng (1:4.00~git30-7274cfa-1.1) ...\n",
            "Setting up tesseract-ocr-osd (1:4.00~git30-7274cfa-1.1) ...\n",
            "Setting up poppler-utils (22.02.0-2ubuntu0.4) ...\n",
            "Setting up tesseract-ocr (4.1.1-2.1build1) ...\n",
            "Processing triggers for man-db (2.10.2-1) ...\n",
            "--2024-05-19 21:29:34--  https://github.com/tesseract-ocr/tessdata/raw/main/por.traineddata\n",
            "Resolving github.com (github.com)... 140.82.121.3\n",
            "Connecting to github.com (github.com)|140.82.121.3|:443... connected.\n",
            "HTTP request sent, awaiting response... 302 Found\n",
            "Location: https://raw.githubusercontent.com/tesseract-ocr/tessdata/main/por.traineddata [following]\n",
            "--2024-05-19 21:29:34--  https://raw.githubusercontent.com/tesseract-ocr/tessdata/main/por.traineddata\n",
            "Resolving raw.githubusercontent.com (raw.githubusercontent.com)... 185.199.108.133, 185.199.110.133, 185.199.111.133, ...\n",
            "Connecting to raw.githubusercontent.com (raw.githubusercontent.com)|185.199.108.133|:443... connected.\n",
            "HTTP request sent, awaiting response... 200 OK\n",
            "Length: 15336931 (15M) [application/octet-stream]\n",
            "Saving to: ‘por.traineddata’\n",
            "\n",
            "por.traineddata     100%[===================>]  14.63M  --.-KB/s    in 0.07s   \n",
            "\n",
            "2024-05-19 21:29:36 (216 MB/s) - ‘por.traineddata’ saved [15336931/15336931]\n",
            "\n"
          ]
        }
      ],
      "source": [
        "!pip install pypdf2 pytesseract Pillow pdf2image\n",
        "\n",
        "!apt-get install tesseract-ocr poppler-utils\n",
        "\n",
        "!wget https://github.com/tesseract-ocr/tessdata/raw/main/por.traineddata\n",
        "\n",
        "!mv por.traineddata /usr/share/tesseract-ocr/4.00/tessdata/\n",
        "\n",
        "import PyPDF2\n",
        "from PIL import Image\n",
        "import pytesseract\n",
        "from pdf2image import convert_from_path"
      ]
    },
    {
      "cell_type": "code",
      "source": [
        "# Nome do arquivo PDF\n",
        "pdf_file_path = 'Book.pdf'\n",
        "\n",
        "with open(pdf_file_path, 'rb') as pdf_file:\n",
        "    pdf_reader = PyPDF2.PdfReader(pdf_file)\n",
        "    num_pages = len(pdf_reader.pages)\n",
        "\n",
        "    all_text = \"\"\n",
        "\n",
        "    for page_num in range(num_pages):\n",
        "        # Converter a página PDF em uma imagem\n",
        "        images = convert_from_path(pdf_file_path, first_page=page_num+1, last_page=page_num+1)\n",
        "        img = images[0]\n",
        "\n",
        "        # Salvar a imagem em um arquivo temporário\n",
        "        temp_image_path = f'temp_page_{page_num}.png'\n",
        "        img.save(temp_image_path, format='PNG')\n",
        "\n",
        "        # Usar o Tesseract OCR para extrair o texto da imagem\n",
        "        page_text = pytesseract.image_to_string(Image.open(temp_image_path), lang='por')\n",
        "\n",
        "        # Adicionar o texto da página ao texto geral\n",
        "        all_text += page_text + \"\\n\"\n"
      ],
      "metadata": {
        "id": "MIPiBCFMumRN"
      },
      "execution_count": 2,
      "outputs": []
    },
    {
      "cell_type": "code",
      "source": [
        "# Agora você tem o texto de todo o PDF na variável 'all_text'\n",
        "print(all_text)"
      ],
      "metadata": {
        "id": "G17-d0xwuqFT"
      },
      "execution_count": null,
      "outputs": []
    }
  ]
}