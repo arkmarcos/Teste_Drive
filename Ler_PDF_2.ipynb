{
  "nbformat": 4,
  "nbformat_minor": 0,
  "metadata": {
    "colab": {
      "provenance": [],
      "authorship_tag": "ABX9TyMgkVtYOorz7z9oFuw1bqRk",
      "include_colab_link": true
    },
    "kernelspec": {
      "name": "python3",
      "display_name": "Python 3"
    },
    "language_info": {
      "name": "python"
    }
  },
  "cells": [
    {
      "cell_type": "markdown",
      "metadata": {
        "id": "view-in-github",
        "colab_type": "text"
      },
      "source": [
        "<a href=\"https://colab.research.google.com/github/arkmarcos/Teste_Drive/blob/main/Ler_PDF_2.ipynb\" target=\"_parent\"><img src=\"https://colab.research.google.com/assets/colab-badge.svg\" alt=\"Open In Colab\"/></a>"
      ]
    },
    {
      "cell_type": "code",
      "execution_count": null,
      "metadata": {
        "id": "1FseCDF63qqL"
      },
      "outputs": [],
      "source": [
        "!pip install pypdf2 pytesseract Pillow pdf2image\n",
        "\n",
        "!apt-get install tesseract-ocr poppler-utils\n",
        "\n",
        "!wget https://github.com/tesseract-ocr/tessdata/raw/main/por.traineddata\n",
        "\n",
        "!mv por.traineddata /usr/share/tesseract-ocr/4.00/tessdata/\n",
        "\n",
        "import PyPDF2\n",
        "from PIL import Image\n",
        "import pytesseract\n",
        "from pdf2image import convert_from_path\n",
        "import io\n",
        "\n",
        "pdf_file_path = 'Book.pdf'\n",
        "\n",
        "with open(pdf_file_path, 'rb') as pdf_file:\n",
        "    pdf_reader = PyPDF2.PdfReader(pdf_file)\n",
        "    num_pages = len(pdf_reader.pages)\n",
        "\n",
        "    all_text = \"\"\n",
        "\n",
        "    for page_num in range(num_pages):\n",
        "        # Tente extrair o texto diretamente do PDF (se possível)\n",
        "        page_text = pdf_reader.pages[page_num].extract_text()\n",
        "        if page_text:\n",
        "            all_text += page_text + \"\\n\"\n",
        "            continue\n",
        "\n",
        "        # Caso a extração direta falhe, converta a página em imagem e processe o OCR\n",
        "        images = convert_from_path(pdf_file_path, first_page=page_num+1, last_page=page_num+1, dpi=200)  # Ajuste o DPI se necessário\n",
        "        img = images[0]\n",
        "\n",
        "        # Processar o OCR na memória sem salvar em arquivo\n",
        "        with io.BytesIO() as output:\n",
        "            img.save(output, format='PNG')\n",
        "            output.seek(0)\n",
        "            page_text = pytesseract.image_to_string(Image.open(output), lang='eng', config='--psm 6 --oem 1')\n",
        "\n",
        "        all_text += page_text + \"\\n\"\n",
        "\n",
        "print(all_text)"
      ]
    },
    {
      "cell_type": "code",
      "source": [
        "!pip install -q -U google-generativeai\n",
        "import google.generativeai as genai\n",
        "from google.colab import userdata\n",
        "\n",
        "GOOGLE_API_KEY=userdata.get('Google_Api_Key')\n",
        "genai.configure(api_key=GOOGLE_API_KEY)\n",
        "model = genai.GenerativeModel('gemini-pro')\n",
        "response = model.generate_content(f\"Traduza o texto a seguir para o português do Brasil: {all_text}\")\n",
        "print(response.text)"
      ],
      "metadata": {
        "id": "RyhVkq2546eQ"
      },
      "execution_count": null,
      "outputs": []
    }
  ]
}